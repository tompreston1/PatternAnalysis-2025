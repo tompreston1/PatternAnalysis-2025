{
  "nbformat": 4,
  "nbformat_minor": 0,
  "metadata": {
    "colab": {
      "provenance": [],
      "authorship_tag": "ABX9TyM8ZQWHpvHuXOZA8eJWAOR5",
      "include_colab_link": true
    },
    "kernelspec": {
      "name": "python3",
      "display_name": "Python 3"
    },
    "language_info": {
      "name": "python"
    }
  },
  "cells": [
    {
      "cell_type": "markdown",
      "metadata": {
        "id": "view-in-github",
        "colab_type": "text"
      },
      "source": [
        "<a href=\"https://colab.research.google.com/github/tompreston1/PatternAnalysis-2025/blob/topic-recognition/train.ipynb\" target=\"_parent\"><img src=\"https://colab.research.google.com/assets/colab-badge.svg\" alt=\"Open In Colab\"/></a>"
      ]
    },
    {
      "cell_type": "code",
      "execution_count": 1,
      "metadata": {
        "colab": {
          "base_uri": "https://localhost:8080/"
        },
        "id": "myoeXh7nYM72",
        "outputId": "767e0bff-20ad-4baa-a0e1-7bbd55ffa9f0"
      },
      "outputs": [
        {
          "output_type": "stream",
          "name": "stdout",
          "text": [
            "Cloning into 'PatternAnalysis-2025'...\n",
            "remote: Enumerating objects: 11, done.\u001b[K\n",
            "remote: Total 11 (delta 0), reused 0 (delta 0), pack-reused 11 (from 1)\u001b[K\n",
            "Receiving objects: 100% (11/11), 6.00 KiB | 1.20 MiB/s, done.\n"
          ]
        }
      ],
      "source": [
        "!git clone https://github.com/tompreston1/PatternAnalysis-2025"
      ]
    },
    {
      "cell_type": "code",
      "source": [
        "!cd PatternAnalysis-2025/\n",
        "!ls\n",
        "\n",
        "\n"
      ],
      "metadata": {
        "colab": {
          "base_uri": "https://localhost:8080/"
        },
        "id": "OAzpERoGYifz",
        "outputId": "d6832516-22e6-4175-89ef-5042ac8d154c"
      },
      "execution_count": 11,
      "outputs": [
        {
          "output_type": "stream",
          "name": "stdout",
          "text": [
            "PatternAnalysis-2025  sample_data\n"
          ]
        }
      ]
    },
    {
      "cell_type": "code",
      "source": [],
      "metadata": {
        "colab": {
          "base_uri": "https://localhost:8080/"
        },
        "id": "2-RFrvSSZbBi",
        "outputId": "9de76e4c-7abd-48fc-ab27-1769e7aa03a4"
      },
      "execution_count": 8,
      "outputs": [
        {
          "output_type": "stream",
          "name": "stdout",
          "text": [
            "PatternAnalysis-2025  sample_data\n"
          ]
        }
      ]
    }
  ]
}